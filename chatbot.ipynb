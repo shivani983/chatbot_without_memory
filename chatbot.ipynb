{
 "cells": [
  {
   "cell_type": "code",
   "execution_count": 1,
   "id": "b99e8005",
   "metadata": {},
   "outputs": [],
   "source": [
    "\n",
    "import warnings\n",
    "from langchain._api import LangChainDeprecationWarning\n",
    "\n",
    "warnings.simplefilter(\"ignore\",category = LangChainDeprecationWarning)\n",
    "\n"
   ]
  },
  {
   "cell_type": "code",
   "execution_count": 7,
   "id": "26d643fe",
   "metadata": {},
   "outputs": [],
   "source": [
    "from dotenv import load_dotenv, find_dotenv\n",
    "\n",
    "_ = load_dotenv(find_dotenv())\n",
    "groq_api_key = os.environ[\"GROQ_API_KEY\"]\n"
   ]
  },
  {
   "cell_type": "code",
   "execution_count": 8,
   "id": "7acc2b84",
   "metadata": {},
   "outputs": [],
   "source": [
    "from langchain_groq import ChatGroq\n",
    "\n",
    "chatbot = ChatGroq(model = \"llama3-8b-8192\")"
   ]
  },
  {
   "cell_type": "code",
   "execution_count": null,
   "id": "7909c041",
   "metadata": {},
   "outputs": [],
   "source": [
    "from langchain_core.messages import HumanMessage\n",
    "\n",
    "messagesToTheChatbot = [HumanMessage(content=\"i love skincare but i have sensitive skin too.\")]"
   ]
  },
  {
   "cell_type": "code",
   "execution_count": 11,
   "id": "bfa0acfa",
   "metadata": {},
   "outputs": [],
   "source": [
    "response = chatbot.invoke(messagesToTheChatbot)"
   ]
  },
  {
   "cell_type": "code",
   "execution_count": 13,
   "id": "815b51b7",
   "metadata": {},
   "outputs": [
    {
     "name": "stdout",
     "output_type": "stream",
     "text": [
      "I'm so glad to hear that you love skincare, and I'm here to help you navigate the challenges of sensitive skin!\n",
      "\n",
      "Sensitive skin can be frustrating, but there are many ways to care for it without causing irritation or reactions. Here are some tips to help you find skincare products and routines that work for you:\n",
      "\n",
      "1. **Patch test, patch test, patch test**: Before introducing a new product to your routine, apply a small amount to a discreet area of your skin (like behind your ear or on your wrist) and wait 24-48 hours to see if any irritation occurs.\n",
      "2. **Look for gentle ingredients**: Opt for products labeled \"hypoallergenic\" or \"fragrance-free\" as they tend to be less likely to cause irritation. You can also search for products containing soothing ingredients like aloe vera, chamomile, or green tea.\n",
      "3. **Choose products with pH levels close to the skin's natural pH**: The skin's natural pH is slightly acidic (around 5.5). Look for products with pH levels between 4.5 and 5.5 to minimize irritation.\n",
      "4. **Avoid harsh exfoliants**: Instead of using physical exfoliants like scrubs or brushes, try chemical exfoliants containing alpha-hydroxy acids (AHAs) or beta-hydroxy acids (BHAs) to gently exfoliate your skin.\n",
      "5. **Use lukewarm water**: Hot water can strip your skin of its natural oils, leading to irritation. Use lukewarm water for cleansing and toning to help your skin retain its natural moisture.\n",
      "6. **Moisturize, moisturize, moisturize**: Sensitive skin often needs extra moisture to stay comfortable. Look for a gentle, non-comedogenic moisturizer that won't clog your pores.\n",
      "7. **Avoid over-cleansing**: Sensitive skin can be easily stripped of its natural oils. Cleanse your skin only as needed, and avoid using harsh cleansers that can disrupt your skin's natural barrier.\n",
      "8. **Consider a gentle, fragrance-free cleanser**: Look for a cleanser that's specifically designed for sensitive skin. These products will typically be gentle and free of harsh ingredients.\n",
      "9. **Be patient and persistent**: It may take some trial and error to find the right products and routine for your sensitive skin. Don't be discouraged if it takes a few weeks to find what works for you.\n",
      "10. **Consult with a dermatologist**: If you're struggling to find products that work for your sensitive skin, consider consulting with a dermatologist for personalized recommendations.\n",
      "\n",
      "Some popular skincare products for sensitive skin include:\n",
      "\n",
      "* Cetaphil Gentle Skin Cleanser\n",
      "* Neutrogena Hydrating Facial Moisturizer\n",
      "* La Roche-Posay Toleriane Ultra Fluid\n",
      "* CeraVe Moisturizing Cream\n",
      "* Avene Skin Recovery Cream\n",
      "* Dermalogica Ultracalming Serum Concentrate\n",
      "\n",
      "Remember, everyone's skin is unique, so it's essential to listen to your skin and adjust your routine accordingly. If you experience any irritation or discomfort, discontinue use and consult with a dermatologist for further guidance.\n",
      "\n",
      "Do you have any specific skincare concerns or questions about sensitive skin? I'm here to help!\n"
     ]
    }
   ],
   "source": [
    "print(response.content)"
   ]
  },
  {
   "cell_type": "code",
   "execution_count": 15,
   "id": "09529f87",
   "metadata": {},
   "outputs": [],
   "source": [
    "## adding the memory to my chatbot\n",
    "from langchain import LLMChain\n",
    "from langchain_core.prompts import ChatPromptTemplate\n",
    "from langchain_core.prompts import HumanMessagePromptTemplate\n",
    "from langchain_core.prompts import MessagesPlaceholder\n",
    "\n",
    "from langchain.memory import ConversationBufferMemory\n",
    "from langchain.memory import FileChatMessageHistory\n"
   ]
  },
  {
   "cell_type": "code",
   "execution_count": 16,
   "id": "be764828",
   "metadata": {},
   "outputs": [],
   "source": [
    "memory = ConversationBufferMemory(\n",
    "    chat_memory=FileChatMessageHistory(\"messages.json\"),\n",
    "    memory_key = \"messages\",\n",
    "    return_messages=True\n",
    ")"
   ]
  },
  {
   "cell_type": "code",
   "execution_count": 17,
   "id": "a802e940",
   "metadata": {},
   "outputs": [],
   "source": [
    "prompt = ChatPromptTemplate(\n",
    "    input_variables = [\"content\",\"messages\"],\n",
    "    messages = [\n",
    "        MessagesPlaceholder(variable_name = \"messages\"),\n",
    "        HumanMessagePromptTemplate.from_template(\"{content}\")\n",
    "    ]\n",
    ")"
   ]
  },
  {
   "cell_type": "code",
   "execution_count": 18,
   "id": "7c0ec9c3",
   "metadata": {},
   "outputs": [],
   "source": [
    "chain = LLMChain(\n",
    "    llm = chatbot,\n",
    "    prompt = prompt,\n",
    "    memory = memory\n",
    ")"
   ]
  },
  {
   "cell_type": "code",
   "execution_count": 20,
   "id": "112f4059",
   "metadata": {},
   "outputs": [],
   "source": [
    "response = chain.invoke('i got a acne this morning.')"
   ]
  },
  {
   "cell_type": "code",
   "execution_count": 36,
   "id": "1fe08fb7",
   "metadata": {},
   "outputs": [
    {
     "name": "stdout",
     "output_type": "stream",
     "text": [
      "i got a acne this morning. \n",
      " response: \n",
      "  Sorry to hear that! Getting acne can be frustrating and unpleasant.\n",
      "\n",
      "First, let's take a deep breath and acknowledge that it's normal to get the occasional breakout. It doesn't define your skin or your worth!\n",
      "\n",
      "Now, let's focus on what you can do to help tackle this acne:\n",
      "\n",
      "1. **Keep your skin clean**: Wash your face gently with a mild cleanser, making sure to remove all makeup and impurities. Pat dry with a clean towel.\n",
      "2. **Use a spot treatment**: Apply a spot treatment containing salicylic acid, benzoyl peroxide, or tea tree oil to help reduce inflammation and combat bacteria.\n",
      "3. **Stay hydrated**: Drink plenty of water throughout the day to help flush out toxins and keep your skin hydrated.\n",
      "4. **Consider a gentle exfoliant**: Exfoliating once or twice a week can help unclog pores and reduce acne. Look for a gentle exfoliant containing alpha-hydroxy acids (AHAs) or beta-hydroxy acids (BHAs).\n",
      "5. **Avoid picking or popping**: Resist the temptation to pick or pop your acne, as this can lead to further inflammation, scarring, and prolonged healing times.\n",
      "6. **Consult a dermatologist**: If your acne persists or worsens, consider consulting a dermatologist for personalized advice, product recommendations, or prescription treatments.\n",
      "\n",
      "Remember, everyone's skin is unique, and it may take some trial and error to find the right combination of products and habits that work for you.\n",
      "\n",
      "Feel better soon, and don't hesitate to reach out if you have any further questions or concerns!\n"
     ]
    }
   ],
   "source": [
    "print(response['content'],\"\\n\",\"response: \\n \",response['messages'][1].content)"
   ]
  },
  {
   "cell_type": "code",
   "execution_count": null,
   "id": "9118dd11",
   "metadata": {},
   "outputs": [],
   "source": []
  }
 ],
 "metadata": {
  "kernelspec": {
   "display_name": "llmapp",
   "language": "python",
   "name": "python3"
  },
  "language_info": {
   "codemirror_mode": {
    "name": "ipython",
    "version": 3
   },
   "file_extension": ".py",
   "mimetype": "text/x-python",
   "name": "python",
   "nbconvert_exporter": "python",
   "pygments_lexer": "ipython3",
   "version": "3.11.11"
  }
 },
 "nbformat": 4,
 "nbformat_minor": 5
}
